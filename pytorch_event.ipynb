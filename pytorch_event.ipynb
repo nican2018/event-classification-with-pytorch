{
 "cells": [
  {
   "cell_type": "code",
   "execution_count": 1,
   "metadata": {},
   "outputs": [],
   "source": [
    "from __future__ import print_function\n",
    "import pandas as pd\n",
    "from sklearn.model_selection import train_test_split\n",
    "from sklearn.metrics import accuracy_score, precision_score, recall_score\n",
    "import torch\n",
    "import numpy as np\n",
    "import matplotlib.pyplot as plt\n",
    "import torch.nn as nn\n",
    "import torch.optim as optim\n",
    "import torch.nn.init as init\n",
    "import torch.nn.functional as F\n",
    "from torch.autograd import Variable\n"
   ]
  },
  {
   "cell_type": "code",
   "execution_count": null,
   "metadata": {},
   "outputs": [],
   "source": []
  },
  {
   "cell_type": "code",
   "execution_count": 2,
   "metadata": {},
   "outputs": [],
   "source": [
    "# read in the dataset Gluon\n",
    "file_name_g = open('data/g1M.out','r')\n",
    "data_gluon=[]\n",
    "for line in file_name_g.readlines():\n",
    "    data_gluon.append(line.strip().split())\n",
    "file_name_g.close()\n",
    "# read in the dataset Quark\n",
    "file_name_q = open('data/q1M.out','r')\n",
    "data_quark=[]\n",
    "for line in file_name_q.readlines():\n",
    "    data_quark.append(line.strip().split())\n",
    "file_name_q.close()"
   ]
  },
  {
   "cell_type": "code",
   "execution_count": 3,
   "metadata": {},
   "outputs": [],
   "source": [
    "#create a DataFrame, we transform the imported data in Dataframe\n",
    "df_gluon=pd.DataFrame(data_gluon)\n",
    "df_quark=pd.DataFrame(data_quark)"
   ]
  },
  {
   "cell_type": "code",
   "execution_count": 4,
   "metadata": {},
   "outputs": [
    {
     "data": {
      "text/html": [
       "<div>\n",
       "<style scoped>\n",
       "    .dataframe tbody tr th:only-of-type {\n",
       "        vertical-align: middle;\n",
       "    }\n",
       "\n",
       "    .dataframe tbody tr th {\n",
       "        vertical-align: top;\n",
       "    }\n",
       "\n",
       "    .dataframe thead th {\n",
       "        text-align: right;\n",
       "    }\n",
       "</style>\n",
       "<table border=\"1\" class=\"dataframe\">\n",
       "  <thead>\n",
       "    <tr style=\"text-align: right;\">\n",
       "      <th></th>\n",
       "      <th>0</th>\n",
       "      <th>1</th>\n",
       "      <th>2</th>\n",
       "      <th>3</th>\n",
       "      <th>4</th>\n",
       "      <th>5</th>\n",
       "    </tr>\n",
       "  </thead>\n",
       "  <tbody>\n",
       "    <tr>\n",
       "      <th>count</th>\n",
       "      <td>1256966</td>\n",
       "      <td>1256966</td>\n",
       "      <td>1256966</td>\n",
       "      <td>1256966</td>\n",
       "      <td>1237968</td>\n",
       "      <td>1237968</td>\n",
       "    </tr>\n",
       "    <tr>\n",
       "      <th>unique</th>\n",
       "      <td>735801</td>\n",
       "      <td>10010</td>\n",
       "      <td>625283</td>\n",
       "      <td>613577</td>\n",
       "      <td>708139</td>\n",
       "      <td>3</td>\n",
       "    </tr>\n",
       "    <tr>\n",
       "      <th>top</th>\n",
       "      <td>Event</td>\n",
       "      <td>0.1</td>\n",
       "      <td>(1</td>\n",
       "      <td>elapsed)</td>\n",
       "      <td>0</td>\n",
       "      <td>1</td>\n",
       "    </tr>\n",
       "    <tr>\n",
       "      <th>freq</th>\n",
       "      <td>19736</td>\n",
       "      <td>678143</td>\n",
       "      <td>738</td>\n",
       "      <td>18998</td>\n",
       "      <td>62</td>\n",
       "      <td>699717</td>\n",
       "    </tr>\n",
       "  </tbody>\n",
       "</table>\n",
       "</div>"
      ],
      "text/plain": [
       "              0        1        2         3        4        5\n",
       "count   1256966  1256966  1256966   1256966  1237968  1237968\n",
       "unique   735801    10010   625283    613577   708139        3\n",
       "top       Event      0.1       (1  elapsed)        0        1\n",
       "freq      19736   678143      738     18998       62   699717"
      ]
     },
     "execution_count": 4,
     "metadata": {},
     "output_type": "execute_result"
    }
   ],
   "source": [
    "#concatenate the both dataset. we combine the quark set and gluon set in the same data set\n",
    "data=pd.concat([df_gluon,df_quark])\n",
    "#A Brief description of the dataset\n",
    "data.describe()"
   ]
  },
  {
   "cell_type": "code",
   "execution_count": 5,
   "metadata": {},
   "outputs": [
    {
     "data": {
      "text/plain": [
       "0    19736\n",
       "1    19736\n",
       "2    19736\n",
       "3    19736\n",
       "4      738\n",
       "5      738\n",
       "dtype: int64"
      ]
     },
     "execution_count": 5,
     "metadata": {},
     "output_type": "execute_result"
    }
   ],
   "source": [
    "#From the above description, we observed taht the data set containt a string \"Event\", we have to clean. \n",
    "data[data[0].str.contains('Event')].count()"
   ]
  },
  {
   "cell_type": "code",
   "execution_count": 6,
   "metadata": {},
   "outputs": [
    {
     "data": {
      "text/html": [
       "<div>\n",
       "<style scoped>\n",
       "    .dataframe tbody tr th:only-of-type {\n",
       "        vertical-align: middle;\n",
       "    }\n",
       "\n",
       "    .dataframe tbody tr th {\n",
       "        vertical-align: top;\n",
       "    }\n",
       "\n",
       "    .dataframe thead th {\n",
       "        text-align: right;\n",
       "    }\n",
       "</style>\n",
       "<table border=\"1\" class=\"dataframe\">\n",
       "  <thead>\n",
       "    <tr style=\"text-align: right;\">\n",
       "      <th></th>\n",
       "      <th>0</th>\n",
       "      <th>1</th>\n",
       "      <th>2</th>\n",
       "      <th>3</th>\n",
       "      <th>4</th>\n",
       "      <th>5</th>\n",
       "    </tr>\n",
       "  </thead>\n",
       "  <tbody>\n",
       "    <tr>\n",
       "      <th>0</th>\n",
       "      <td>0.0755577</td>\n",
       "      <td>0.2</td>\n",
       "      <td>0.189465</td>\n",
       "      <td>0.104326</td>\n",
       "      <td>0.0544762</td>\n",
       "      <td>0</td>\n",
       "    </tr>\n",
       "    <tr>\n",
       "      <th>1</th>\n",
       "      <td>0.0639362</td>\n",
       "      <td>0.1</td>\n",
       "      <td>0.184013</td>\n",
       "      <td>0.058119</td>\n",
       "      <td>0.0475469</td>\n",
       "      <td>0</td>\n",
       "    </tr>\n",
       "    <tr>\n",
       "      <th>2</th>\n",
       "      <td>0.0369286</td>\n",
       "      <td>0.1</td>\n",
       "      <td>0.139499</td>\n",
       "      <td>0.446972</td>\n",
       "      <td>0.0292832</td>\n",
       "      <td>0</td>\n",
       "    </tr>\n",
       "    <tr>\n",
       "      <th>3</th>\n",
       "      <td>0.167616</td>\n",
       "      <td>0.2</td>\n",
       "      <td>0.383354</td>\n",
       "      <td>0.309005</td>\n",
       "      <td>0.11008</td>\n",
       "      <td>0</td>\n",
       "    </tr>\n",
       "    <tr>\n",
       "      <th>4</th>\n",
       "      <td>0.218167</td>\n",
       "      <td>0.2</td>\n",
       "      <td>0.345461</td>\n",
       "      <td>0.128316</td>\n",
       "      <td>0.110414</td>\n",
       "      <td>0</td>\n",
       "    </tr>\n",
       "  </tbody>\n",
       "</table>\n",
       "</div>"
      ],
      "text/plain": [
       "           0    1         2         3          4  5\n",
       "0  0.0755577  0.2  0.189465  0.104326  0.0544762  0\n",
       "1  0.0639362  0.1  0.184013  0.058119  0.0475469  0\n",
       "2  0.0369286  0.1  0.139499  0.446972  0.0292832  0\n",
       "3   0.167616  0.2  0.383354  0.309005    0.11008  0\n",
       "4   0.218167  0.2  0.345461  0.128316   0.110414  0"
      ]
     },
     "execution_count": 6,
     "metadata": {},
     "output_type": "execute_result"
    }
   ],
   "source": [
    "#Clean data\n",
    "data=data[data[0]!='Event']\n",
    "#we print the first 5 elements of the data set\n",
    "data.head()"
   ]
  },
  {
   "cell_type": "code",
   "execution_count": 7,
   "metadata": {},
   "outputs": [
    {
     "data": {
      "text/html": [
       "<div>\n",
       "<style scoped>\n",
       "    .dataframe tbody tr th:only-of-type {\n",
       "        vertical-align: middle;\n",
       "    }\n",
       "\n",
       "    .dataframe tbody tr th {\n",
       "        vertical-align: top;\n",
       "    }\n",
       "\n",
       "    .dataframe thead th {\n",
       "        text-align: right;\n",
       "    }\n",
       "</style>\n",
       "<table border=\"1\" class=\"dataframe\">\n",
       "  <thead>\n",
       "    <tr style=\"text-align: right;\">\n",
       "      <th></th>\n",
       "      <th>nmass</th>\n",
       "      <th>nsub</th>\n",
       "      <th>lha</th>\n",
       "      <th>zg</th>\n",
       "      <th>ci</th>\n",
       "      <th>origin</th>\n",
       "    </tr>\n",
       "  </thead>\n",
       "  <tbody>\n",
       "    <tr>\n",
       "      <th>0</th>\n",
       "      <td>0.0755577</td>\n",
       "      <td>0.2</td>\n",
       "      <td>0.189465</td>\n",
       "      <td>0.104326</td>\n",
       "      <td>0.0544762</td>\n",
       "      <td>0</td>\n",
       "    </tr>\n",
       "    <tr>\n",
       "      <th>1</th>\n",
       "      <td>0.0639362</td>\n",
       "      <td>0.1</td>\n",
       "      <td>0.184013</td>\n",
       "      <td>0.058119</td>\n",
       "      <td>0.0475469</td>\n",
       "      <td>0</td>\n",
       "    </tr>\n",
       "    <tr>\n",
       "      <th>2</th>\n",
       "      <td>0.0369286</td>\n",
       "      <td>0.1</td>\n",
       "      <td>0.139499</td>\n",
       "      <td>0.446972</td>\n",
       "      <td>0.0292832</td>\n",
       "      <td>0</td>\n",
       "    </tr>\n",
       "    <tr>\n",
       "      <th>3</th>\n",
       "      <td>0.167616</td>\n",
       "      <td>0.2</td>\n",
       "      <td>0.383354</td>\n",
       "      <td>0.309005</td>\n",
       "      <td>0.11008</td>\n",
       "      <td>0</td>\n",
       "    </tr>\n",
       "    <tr>\n",
       "      <th>4</th>\n",
       "      <td>0.218167</td>\n",
       "      <td>0.2</td>\n",
       "      <td>0.345461</td>\n",
       "      <td>0.128316</td>\n",
       "      <td>0.110414</td>\n",
       "      <td>0</td>\n",
       "    </tr>\n",
       "  </tbody>\n",
       "</table>\n",
       "</div>"
      ],
      "text/plain": [
       "       nmass nsub       lha        zg         ci origin\n",
       "0  0.0755577  0.2  0.189465  0.104326  0.0544762      0\n",
       "1  0.0639362  0.1  0.184013  0.058119  0.0475469      0\n",
       "2  0.0369286  0.1  0.139499  0.446972  0.0292832      0\n",
       "3   0.167616  0.2  0.383354  0.309005    0.11008      0\n",
       "4   0.218167  0.2  0.345461  0.128316   0.110414      0"
      ]
     },
     "execution_count": 7,
     "metadata": {},
     "output_type": "execute_result"
    }
   ],
   "source": [
    "#rename column by using the name of variables that describe the event\n",
    "data.rename(columns={0:'nmass',1:'nsub',2:'lha',3:'zg',4:'ci',5:'origin'},inplace=True)\n",
    "#we print the five first element\n",
    "data.head()"
   ]
  },
  {
   "cell_type": "code",
   "execution_count": null,
   "metadata": {},
   "outputs": [],
   "source": []
  },
  {
   "cell_type": "code",
   "execution_count": 8,
   "metadata": {},
   "outputs": [
    {
     "name": "stdout",
     "output_type": "stream",
     "text": [
      "       nmass nsub       lha         zg         ci\n",
      "0  0.0755577  0.2  0.189465   0.104326  0.0544762\n",
      "1  0.0639362  0.1  0.184013   0.058119  0.0475469\n",
      "2  0.0369286  0.1  0.139499   0.446972  0.0292832\n",
      "3   0.167616  0.2  0.383354   0.309005    0.11008\n",
      "4   0.218167  0.2  0.345461   0.128316   0.110414\n",
      "5   0.526424  0.2  0.705519   0.423706   0.280389\n",
      "6  0.0913633  0.2  0.190319  0.0550395  0.0569352\n",
      "7   0.112613  0.2  0.229782   0.125332  0.0655758\n",
      "8   0.503168  0.4  0.697395   0.113624   0.291295\n",
      "9  0.0267763  0.1  0.120125   0.100771  0.0247467\n",
      "0    0\n",
      "1    0\n",
      "2    0\n",
      "3    0\n",
      "4    0\n",
      "5    0\n",
      "6    0\n",
      "7    0\n",
      "8    0\n",
      "9    0\n",
      "Name: origin, dtype: object\n"
     ]
    }
   ],
   "source": [
    "features = data.drop('origin', axis=1)\n",
    "targets = data['origin']\n",
    "print(features[:10])\n",
    "print(targets[:10])"
   ]
  },
  {
   "cell_type": "code",
   "execution_count": 9,
   "metadata": {},
   "outputs": [],
   "source": [
    "features=features.astype('float')\n",
    "targets=targets.astype('float')\n",
    " "
   ]
  },
  {
   "cell_type": "code",
   "execution_count": 10,
   "metadata": {},
   "outputs": [],
   "source": [
    "#We split the data set by taking 80% of data for training and 20% for testing. Note we use a rondom sampling\n",
    "X_train, X_test, y_train, y_test = train_test_split(features, targets, test_size=0.2, random_state=1)"
   ]
  },
  {
   "cell_type": "code",
   "execution_count": null,
   "metadata": {},
   "outputs": [],
   "source": []
  },
  {
   "cell_type": "code",
   "execution_count": 11,
   "metadata": {},
   "outputs": [],
   "source": [
    "# wrap up with Variable in pytorch\n",
    "train_X = Variable(torch.Tensor(X_train.values).float())\n",
    "test_X = Variable(torch.Tensor(X_test.values).float())\n",
    "train_y = Variable(torch.Tensor(y_train.values).float())\n",
    "test_y = Variable(torch.Tensor(y_test.values).float())"
   ]
  },
  {
   "cell_type": "code",
   "execution_count": null,
   "metadata": {},
   "outputs": [],
   "source": []
  },
  {
   "cell_type": "code",
   "execution_count": 95,
   "metadata": {},
   "outputs": [
    {
     "name": "stdout",
     "output_type": "stream",
     "text": [
      "Sequential(\n",
      "  (0): Linear(in_features=5, out_features=4, bias=True)\n",
      "  (1): ELU(alpha=1.0)\n",
      "  (2): Linear(in_features=4, out_features=1, bias=True)\n",
      "  (3): Sigmoid()\n",
      ")\n"
     ]
    }
   ],
   "source": [
    "# Define network dimensions\n",
    "n_input_dim = train_X .shape[1]\n",
    "# Layer size\n",
    "n_hidden = 4 # Number of hidden nodes\n",
    "n_output = 1 # Number of output nodes = for binary classifier\n",
    "\n",
    "# Build your network\n",
    "net = nn.Sequential(\n",
    "    nn.Linear(n_input_dim, n_hidden),\n",
    "    nn.ELU(),\n",
    "    nn.Linear(n_hidden, n_output),\n",
    "    nn.Sigmoid())\n",
    "    \n",
    "print(net)"
   ]
  },
  {
   "cell_type": "code",
   "execution_count": 125,
   "metadata": {},
   "outputs": [],
   "source": [
    "#Define the lost function \n",
    "loss_func = nn.BCELoss()\n",
    "learning_rate = 0.2\n",
    "#Set the optimize, we choose Adam\n",
    "optimizer = torch.optim.Adam(net.parameters(), lr=learning_rate)"
   ]
  },
  {
   "cell_type": "code",
   "execution_count": 126,
   "metadata": {},
   "outputs": [
    {
     "name": "stderr",
     "output_type": "stream",
     "text": [
      "/home/nick/anaconda3/lib/python3.6/site-packages/ipykernel_launcher.py:15: UserWarning: invalid index of a 0-dim tensor. This will be an error in PyTorch 0.5. Use tensor.item() to convert a 0-dim tensor to a Python number\n",
      "  from ipykernel import kernelapp as app\n"
     ]
    },
    {
     "name": "stdout",
     "output_type": "stream",
     "text": [
      "number of epoch 0 loss tensor(0.5034)\n",
      "number of epoch 10 loss tensor(0.5868)\n",
      "number of epoch 20 loss tensor(0.5119)\n",
      "number of epoch 30 loss tensor(0.5192)\n",
      "number of epoch 40 loss tensor(0.5051)\n",
      "number of epoch 50 loss tensor(0.5061)\n",
      "number of epoch 60 loss tensor(0.5036)\n",
      "number of epoch 70 loss tensor(0.5031)\n",
      "number of epoch 80 loss tensor(0.5028)\n",
      "number of epoch 90 loss tensor(0.5026)\n",
      "number of epoch 100 loss tensor(0.5024)\n",
      "number of epoch 110 loss tensor(0.5022)\n",
      "number of epoch 120 loss tensor(0.5021)\n",
      "number of epoch 130 loss tensor(0.5020)\n",
      "number of epoch 140 loss tensor(0.5018)\n",
      "number of epoch 150 loss tensor(0.5017)\n",
      "number of epoch 160 loss tensor(0.5016)\n",
      "number of epoch 170 loss tensor(0.5014)\n",
      "number of epoch 180 loss tensor(0.5013)\n",
      "number of epoch 190 loss tensor(0.5012)\n",
      "number of epoch 200 loss tensor(0.5011)\n",
      "number of epoch 210 loss tensor(0.5009)\n",
      "number of epoch 220 loss tensor(0.5008)\n",
      "number of epoch 230 loss tensor(0.5007)\n",
      "number of epoch 240 loss tensor(0.5005)\n",
      "Finished training!\n"
     ]
    }
   ],
   "source": [
    "#We run the train \n",
    "train_loss = []\n",
    "epoch = 250\n",
    "Y_train_t = torch.FloatTensor(train_y).reshape(-1, 1)\n",
    "for epoch in range(epoch):\n",
    "    net.cpu()\n",
    "    X_train_t = torch.FloatTensor(train_X).to(device='cpu')\n",
    "    y_hat = net(X_train_t).to(device='cpu')\n",
    "    loss = loss_func(y_hat, Y_train_t).to(device='cpu')\n",
    "    loss.backward()\n",
    "    optimizer.step()\n",
    "    optimizer.zero_grad()\n",
    "    train_loss.append(loss.item())\n",
    "    if epoch % 10 == 0:\n",
    "        print ('number of epoch', epoch, 'loss', loss.data[0])\n",
    "print(\"Finished training!\")"
   ]
  },
  {
   "cell_type": "code",
   "execution_count": 127,
   "metadata": {},
   "outputs": [
    {
     "data": {
      "text/plain": [
       "tensor([[0.8511],\n",
       "        [0.6902],\n",
       "        [0.2966],\n",
       "        ...,\n",
       "        [0.5100],\n",
       "        [0.8115],\n",
       "        [0.3953]], grad_fn=<SigmoidBackward>)"
      ]
     },
     "execution_count": 127,
     "metadata": {},
     "output_type": "execute_result"
    }
   ],
   "source": [
    "y_hat"
   ]
  },
  {
   "cell_type": "code",
   "execution_count": 128,
   "metadata": {},
   "outputs": [
    {
     "data": {
      "text/plain": [
       "tensor([[1.],\n",
       "        [1.],\n",
       "        [0.],\n",
       "        ...,\n",
       "        [1.],\n",
       "        [1.],\n",
       "        [0.]], grad_fn=<RoundBackward>)"
      ]
     },
     "execution_count": 128,
     "metadata": {},
     "output_type": "execute_result"
    }
   ],
   "source": [
    "#We convert the sigmoid result to a corresponding class\n",
    "y_hat=torch.round(y_hat)\n",
    "y_hat"
   ]
  },
  {
   "cell_type": "code",
   "execution_count": null,
   "metadata": {},
   "outputs": [],
   "source": []
  },
  {
   "cell_type": "code",
   "execution_count": 130,
   "metadata": {},
   "outputs": [
    {
     "name": "stdout",
     "output_type": "stream",
     "text": [
      "prediction accuracy 0.7555719227629463\n",
      "macro precision 0.7879921313377632\n"
     ]
    }
   ],
   "source": [
    "print ('prediction accuracy', accuracy_score(train_y, y_hat.detach().numpy()))\n",
    "print ('macro precision', precision_score(train_y, y_hat.detach().numpy()))"
   ]
  },
  {
   "cell_type": "code",
   "execution_count": 131,
   "metadata": {},
   "outputs": [
    {
     "data": {
      "image/png": "[encoded data removed]",
      "text/plain": [
       "<Figure size 432x288 with 1 Axes>"
      ]
     },
     "metadata": {
      "needs_background": "light"
     },
     "output_type": "display_data"
    }
   ],
   "source": [
    "# Plot training & validation accuracy values\n",
    "plt.plot(train_loss,'-')\n",
    "plt.title('Model lost')\n",
    "plt.ylabel('Accuracy')\n",
    "plt.xlabel('Epoch')\n",
    "plt.grid(True)\n",
    "plt.savefig(\"lost.png\")\n",
    "plt.show()"
   ]
  },
  {
   "cell_type": "code",
   "execution_count": null,
   "metadata": {},
   "outputs": [],
   "source": []
  },
  {
   "cell_type": "markdown",
   "metadata": {},
   "source": [
    "Our network trained over the 1,000 iterations and pushed its classification accuracy towards 75%. Let’s  visualize this to see how well it fares on our test set. "
   ]
  },
  {
   "cell_type": "code",
   "execution_count": 102,
   "metadata": {},
   "outputs": [],
   "source": [
    "X_test_t = torch.FloatTensor(test_X)\n",
    "y_hat_test = net(X_test_t)"
   ]
  },
  {
   "cell_type": "code",
   "execution_count": 112,
   "metadata": {},
   "outputs": [],
   "source": [
    "#Create the class, we could also use torch.round()\n",
    "y_hat_test=np.where(y_hat_test<0.5,0,1)"
   ]
  },
  {
   "cell_type": "code",
   "execution_count": 104,
   "metadata": {},
   "outputs": [
    {
     "name": "stdout",
     "output_type": "stream",
     "text": [
      "Test accuracy 0.7474075151750281\n",
      "macro precision 0.7433905050611125\n",
      "micro precision 0.7474075151750281\n",
      "macro recall 0.7396644879878598\n",
      "micro recall 0.7474075151750281\n"
     ]
    }
   ],
   "source": [
    "print ('Test accuracy', accuracy_score(test_y , y_hat_test))\n",
    "print ('macro precision', precision_score(test_y.data, y_hat_test.data, average='macro'))\n",
    "print ('micro precision', precision_score(test_y.data, y_hat_test.data, average='micro'))\n",
    "print ('macro recall', recall_score(test_y.data, y_hat_test.data, average='macro'))\n",
    "print ('micro recall', recall_score(test_y.data, y_hat_test.data, average='micro'))"
   ]
  },
  {
   "cell_type": "markdown",
   "metadata": {},
   "source": [
    "We could improve the network by using, dropout, or regularization and see the result. To avoid overfitting in the begining of the training"
   ]
  }
 ],
 "metadata": {
  "kernelspec": {
   "display_name": "Python 3",
   "language": "python",
   "name": "python3"
  },
  "language_info": {
   "codemirror_mode": {
    "name": "ipython",
    "version": 3
   },
   "file_extension": ".py",
   "mimetype": "text/x-python",
   "name": "python",
   "nbconvert_exporter": "python",
   "pygments_lexer": "ipython3",
   "version": "3.6.7"
  }
 },
 "nbformat": 4,
 "nbformat_minor": 2
}
